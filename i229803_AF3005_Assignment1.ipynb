{
 "cells": [
  {
   "cell_type": "raw",
   "id": "8b6b0d6d-4ebf-4132-b702-279429deedcb",
   "metadata": {},
   "source": []
  },
  {
   "cell_type": "raw",
   "id": "744b37a6-7894-4200-95ff-a40484462e11",
   "metadata": {},
   "source": [
    "Part 1: Loan Eligibility & Interest Rate Calculation"
   ]
  },
  {
   "cell_type": "code",
   "execution_count": 30,
   "id": "da9efb77-5577-47da-8910-efd315e519a9",
   "metadata": {},
   "outputs": [
    {
     "name": "stdin",
     "output_type": "stream",
     "text": [
      "Enter your income:  45000\n",
      "Enter your credit_score:  800\n"
     ]
    },
    {
     "name": "stdout",
     "output_type": "stream",
     "text": [
      "Loan Rejected: Income must be at least PKR 50,000.\n"
     ]
    }
   ],
   "source": [
    "income=int(input(\"Enter your income: \"))\n",
    "credit_score=int(input(\"Enter your credit_score: \"))\n",
    "if income < 50000:\n",
    "        print(\"Loan Rejected: Income must be at least PKR 50,000.\")\n",
    "elif credit_score >= 750:\n",
    "            print(\"Loan Approved with 5% Interest Rate.\")\n",
    "elif 650 <= credit_score < 750:\n",
    "            print(\"Loan Approved with 8% Interest Rate.\")\n",
    "else:\n",
    "            print(\"Loan Rejected: Credit Score is too low.\")\n"
   ]
  },
  {
   "cell_type": "raw",
   "id": "8340df49-9eb9-452f-95d5-8b53e4c57e22",
   "metadata": {},
   "source": [
    "Part 2:Investment Risk assesment\n"
   ]
  },
  {
   "cell_type": "code",
   "execution_count": 46,
   "id": "2e82830e-7cf6-4874-b34b-7c070cd51aab",
   "metadata": {},
   "outputs": [
    {
     "name": "stdin",
     "output_type": "stream",
     "text": [
      "Enter the number of stocks in your portfolio:  1\n",
      "Enter return for Stock 1:  3.2\n"
     ]
    },
    {
     "name": "stdout",
     "output_type": "stream",
     "text": [
      "Portfolio Risk Level: Medium Risk \n"
     ]
    }
   ],
   "source": [
    "\n",
    "num_stocks = int(input(\"Enter the number of stocks in your portfolio: \"))\n",
    "stock_returns = []\n",
    "for i in range(num_stocks):\n",
    "    stock_return = float(input(f\"Enter return for Stock {i+1}: \"))\n",
    "    stock_returns.append(stock_return)\n",
    "if any(return_ < 0 for return_ in stock_returns):\n",
    "    print(\"Portfolio Risk Level: High Risk \")\n",
    "elif any(0 <= return_ < 5 for return_ in stock_returns):\n",
    "    print(\"Portfolio Risk Level: Medium Risk \")\n",
    "else:\n",
    "    print(\"Portfolio Risk Level: Low Risk \")\n",
    "\n"
   ]
  },
  {
   "cell_type": "raw",
   "id": "2e02e3f7-2981-4ab3-9368-c9a53f9b70d9",
   "metadata": {},
   "source": [
    "Part 5: Currency rate change Tracker"
   ]
  },
  {
   "cell_type": "code",
   "execution_count": 1,
   "id": "dda7cd58-a96c-439e-a0a9-4b8c65935a0e",
   "metadata": {},
   "outputs": [
    {
     "name": "stdout",
     "output_type": "stream",
     "text": [
      "Exchange Rate: 1 USD = 290 PKR\n",
      "Exchange Rate: 1 USD = 291 PKR\n",
      "Exchange Rate: 1 USD = 292 PKR\n",
      "Exchange Rate: 1 USD = 293 PKR\n",
      "Exchange Rate: 1 USD = 294 PKR\n",
      "Exchange Rate: 1 USD = 295 PKR\n",
      "Exchange Rate: 1 USD = 296 PKR\n",
      "Exchange Rate: 1 USD = 297 PKR\n",
      "Exchange Rate: 1 USD = 298 PKR\n",
      "Exchange Rate: 1 USD = 299 PKR\n",
      "Exchange Rate: 1 USD = 300 PKR\n"
     ]
    }
   ],
   "source": [
    "exchange_rate = 290  \n",
    "while exchange_rate <= 300:\n",
    "    print(f\"Exchange Rate: 1 USD = {exchange_rate} PKR\")\n",
    "    exchange_rate += 1 \n",
    "\n"
   ]
  },
  {
   "cell_type": "code",
   "execution_count": 3,
   "id": "0125eb24-7b8c-4f08-ba23-dc46661d2d45",
   "metadata": {},
   "outputs": [
    {
     "data": {
      "application/vnd.jupyter.widget-view+json": {
       "model_id": "7ffd9ec6977d46cda1fbbab954c89e4e",
       "version_major": 2,
       "version_minor": 0
      },
      "text/plain": [
       "IntSlider(value=290, description='Start Rate:', max=300, min=280)"
      ]
     },
     "metadata": {},
     "output_type": "display_data"
    },
    {
     "data": {
      "application/vnd.jupyter.widget-view+json": {
       "model_id": "401574a1b3294148b48e40e167d83dd7",
       "version_major": 2,
       "version_minor": 0
      },
      "text/plain": [
       "Output()"
      ]
     },
     "metadata": {},
     "output_type": "display_data"
    }
   ],
   "source": [
    "\n",
    "import ipywidgets as widgets\n",
    "from IPython.display import display, clear_output\n",
    "import time\n",
    "start_rate = widgets.IntSlider(value=290, min=280, max=300, step=1, description=\"Start Rate:\")\n",
    "output = widgets.Output()\n",
    "\n",
    "def track_exchange_rate(change):\n",
    "    with output:\n",
    "        output.clear_output()  \n",
    "        rate = start_rate.value  \n",
    "\n",
    "        while rate <= 300:\n",
    "            print(f\"Exchange Rate: 1 USD = {rate} PKR\")\n",
    "            rate += 1\n",
    "            time.sleep(0.5)  \n",
    "\n",
    "start_rate.observe(track_exchange_rate, names='value')\n",
    "display(start_rate, output)\n"
   ]
  },
  {
   "cell_type": "raw",
   "id": "3d67df2e-0d80-42df-8a30-c9f84bdf29b8",
   "metadata": {},
   "source": [
    "Part 3: Loan Repayment Tracker"
   ]
  },
  {
   "cell_type": "code",
   "execution_count": 12,
   "id": "25246b06-2bdd-4be1-8772-50bb5069da96",
   "metadata": {},
   "outputs": [
    {
     "name": "stdout",
     "output_type": "stream",
     "text": [
      "Month 1: Remaining Loan Balance = PKR 475000\n",
      "Month 2: Remaining Loan Balance = PKR 450000\n",
      "Month 3: Remaining Loan Balance = PKR 425000\n",
      "Month 4: Remaining Loan Balance = PKR 400000\n",
      "Month 5: Remaining Loan Balance = PKR 375000\n",
      "Month 6: Remaining Loan Balance = PKR 350000\n",
      "Month 7: Remaining Loan Balance = PKR 325000\n",
      "Month 8: Remaining Loan Balance = PKR 300000\n",
      "Month 9: Remaining Loan Balance = PKR 275000\n",
      "Month 10: Remaining Loan Balance = PKR 250000\n",
      "Month 11: Remaining Loan Balance = PKR 225000\n",
      "Month 12: Remaining Loan Balance = PKR 200000\n",
      "Month 13: Remaining Loan Balance = PKR 175000\n",
      "Month 14: Remaining Loan Balance = PKR 150000\n",
      "Month 15: Remaining Loan Balance = PKR 125000\n",
      "Month 16: Remaining Loan Balance = PKR 100000\n",
      "Month 17: Remaining Loan Balance = PKR 75000\n",
      "Month 18: Remaining Loan Balance = PKR 50000\n",
      "Month 19: Remaining Loan Balance = PKR 25000\n",
      "Month 20: Remaining Loan Balance = PKR 0\n"
     ]
    }
   ],
   "source": [
    "initial_balance = 500000  \n",
    "monthly_payment = 25000  \n",
    "month = 1\n",
    "while initial_balance > 0:\n",
    "    initial_balance -= monthly_payment  \n",
    "    if initial_balance < 0:  \n",
    "        initial_balance = 0 \n",
    "    print(f\"Month {month}: Remaining Loan Balance = PKR {initial_balance}\")\n",
    "    month += 1\n"
   ]
  },
  {
   "cell_type": "code",
   "execution_count": 14,
   "id": "4db1de8f-d6be-47a2-a46d-900f010f8b44",
   "metadata": {},
   "outputs": [
    {
     "data": {
      "application/vnd.jupyter.widget-view+json": {
       "model_id": "d15778aa2d4c4356aa353a43f688e143",
       "version_major": 2,
       "version_minor": 0
      },
      "text/plain": [
       "IntText(value=500000, description='Loan Amount (PKR):')"
      ]
     },
     "metadata": {},
     "output_type": "display_data"
    },
    {
     "data": {
      "application/vnd.jupyter.widget-view+json": {
       "model_id": "29e455c35f97449bbe7f457e25116bbe",
       "version_major": 2,
       "version_minor": 0
      },
      "text/plain": [
       "IntText(value=25000, description='Monthly Payment (PKR):')"
      ]
     },
     "metadata": {},
     "output_type": "display_data"
    },
    {
     "data": {
      "application/vnd.jupyter.widget-view+json": {
       "model_id": "52521cbe78de479780a82b3d9efcd830",
       "version_major": 2,
       "version_minor": 0
      },
      "text/plain": [
       "Output()"
      ]
     },
     "metadata": {},
     "output_type": "display_data"
    }
   ],
   "source": [
    "import ipywidgets as widgets\n",
    "from IPython.display import display, clear_output\n",
    "loan_amount = widgets.IntText(value=500000, description=\"Loan Amount (PKR):\")\n",
    "monthly_payment = widgets.IntText(value=25000, description=\"Monthly Payment (PKR):\")\n",
    "output = widgets.Output()\n",
    "def track_loan_payments(change):\n",
    "    with output:\n",
    "        output.clear_output()  # Clear previous output\n",
    "        balance = loan_amount.value\n",
    "        payment = monthly_payment.value\n",
    "        month = 1\n",
    "        \n",
    "        while balance > 0:\n",
    "            balance -= payment\n",
    "            if balance < 0:\n",
    "                balance = 0  \n",
    "            print(f\"Month {month}: Remaining Loan Balance = PKR {balance}\")\n",
    "            month += 1\n",
    "\n",
    "\n",
    "loan_amount.observe(track_loan_payments, names='value')\n",
    "monthly_payment.observe(track_loan_payments, names='value')\n",
    "display(loan_amount, monthly_payment, output)\n"
   ]
  },
  {
   "cell_type": "raw",
   "id": "4f31fb79-f6ee-4dde-9e3d-3bce4b69eb4a",
   "metadata": {},
   "source": [
    "Part 4: Stock Price Monitoring and Trading Strategy"
   ]
  },
  {
   "cell_type": "code",
   "execution_count": 17,
   "id": "0575d0f9-a223-46e8-9626-59d424bbafd5",
   "metadata": {},
   "outputs": [
    {
     "name": "stdout",
     "output_type": "stream",
     "text": [
      "Stock Price: PKR 180\n",
      "Stock Price: PKR 185\n",
      "Stock Price: PKR 190\n",
      "Stock Price: PKR 195\n",
      "Stock Price: PKR 200\n",
      "Target reached! Selling stock now. ✅\n"
     ]
    }
   ],
   "source": [
    "stock_prices = [180, 185, None, 190, 195, None, 200, 205, 210]\n",
    "for price in stock_prices:\n",
    "    if price is None:\n",
    "        continue  \n",
    "    \n",
    "    print(f\"Stock Price: PKR {price}\")\n",
    "    \n",
    "    if price >= 200:\n",
    "        print(\"Target reached! Selling stock now. ✅\")\n",
    "        break \n"
   ]
  },
  {
   "cell_type": "code",
   "execution_count": 19,
   "id": "80570221-9e6c-4e1b-bf18-41b4420f29ce",
   "metadata": {},
   "outputs": [
    {
     "data": {
      "application/vnd.jupyter.widget-view+json": {
       "model_id": "abbed6407a4c490b9bc1913323dd91d1",
       "version_major": 2,
       "version_minor": 0
      },
      "text/plain": [
       "Text(value='', placeholder='Enter stock prices, separated by commas')"
      ]
     },
     "metadata": {},
     "output_type": "display_data"
    },
    {
     "data": {
      "application/vnd.jupyter.widget-view+json": {
       "model_id": "bc25530acfd54e7b999d942e49dd8985",
       "version_major": 2,
       "version_minor": 0
      },
      "text/plain": [
       "Output()"
      ]
     },
     "metadata": {},
     "output_type": "display_data"
    }
   ],
   "source": [
    "import ipywidgets as widgets\n",
    "from IPython.display import display, clear_output\n",
    "\n",
    "\n",
    "stock_input = widgets.Text(placeholder=\"Enter stock prices, separated by commas\")\n",
    "\n",
    "\n",
    "output = widgets.Output()\n",
    "\n",
    "def track_stock_prices(change):\n",
    "    with output:\n",
    "        output.clear_output()  \n",
    "        \n",
    "        \n",
    "        stock_prices = stock_input.value.split(\",\")  \n",
    "        stock_prices = [float(price) if price.strip().lower() != \"none\" else None for price in stock_prices]\n",
    "        \n",
    "        for price in stock_prices:\n",
    "            if price is None:\n",
    "                continue  \n",
    "            \n",
    "            print(f\"Stock Price: PKR {price}\")\n",
    "            \n",
    "            if price >= 200:\n",
    "                print(\"Target reached! Selling stock now. ✅\")\n",
    "                break  \n",
    "\n",
    "stock_input.observe(track_stock_prices, names='value')\n",
    "\n",
    "\n",
    "display(stock_input, output)\n"
   ]
  },
  {
   "cell_type": "code",
   "execution_count": null,
   "id": "44a6af8b-c34c-4c67-ae11-8ccc3d7c3202",
   "metadata": {},
   "outputs": [],
   "source": []
  }
 ],
 "metadata": {
  "kernelspec": {
   "display_name": "Python 3 (ipykernel)",
   "language": "python",
   "name": "python3"
  },
  "language_info": {
   "codemirror_mode": {
    "name": "ipython",
    "version": 3
   },
   "file_extension": ".py",
   "mimetype": "text/x-python",
   "name": "python",
   "nbconvert_exporter": "python",
   "pygments_lexer": "ipython3",
   "version": "3.12.4"
  }
 },
 "nbformat": 4,
 "nbformat_minor": 5
}
